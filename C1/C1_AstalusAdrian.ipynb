{
 "cells": [
  {
   "cell_type": "code",
   "execution_count": 1,
   "metadata": {},
   "outputs": [],
   "source": [
    "import numpy as np\n",
    "import pandas as pd"
   ]
  },
  {
   "cell_type": "markdown",
   "metadata": {},
   "source": [
    "**<p style=\"color:red\">EXERCISE 1</p>**\n",
    "\n",
    "**Exercise 1: Create 2 series serA and serB.**\n",
    "* The labels for both series are 'name', 'day', 'time'. \n",
    "* The values in serA are 'A', 'Mon', 1. \n",
    "* The values in serB are 'B', 'Fri', 5. \n",
    "* Give names to the series and print them.\n",
    "* Print the value for 'time' in serA.\n",
    "* Print the value for 'day' in serB."
   ]
  },
  {
   "cell_type": "code",
   "execution_count": 2,
   "metadata": {},
   "outputs": [
    {
     "name": "stdout",
     "output_type": "stream",
     "text": [
      "1\n",
      "Fri\n"
     ]
    }
   ],
   "source": [
    "# Your solution here\n",
    "listA = ['A', 'Mon', 1]\n",
    "listB = ['B', 'Fri', 5]\n",
    "labels = ['name', 'day', 'time']\n",
    "serA = pd.Series(data=listA, index=labels)\n",
    "serB = pd.Series(data=listB, index=labels)\n",
    "\n",
    "print(serA['time'])\n",
    "print(serB['day'])"
   ]
  },
  {
   "cell_type": "markdown",
   "metadata": {},
   "source": [
    "**<p style=\"color:red\">EXERCISE 2</p>**\n",
    "\n",
    "**Exercise 2: Create a data frame called 'df_cs' from the CSV file 'ComputerSales.csv'.**\n",
    "* Print the first 5 rows.\n",
    "* Print the first 10 rows.\n",
    "* Print the total number of rows.\n",
    "* Print the maximum value of the column 'Profit'\n",
    "* Print the number of unique values in the column 'Age'\n",
    "* Print all the rows for which 'Product Type' is 'Tablet'\n",
    "* Add a column called 'Diff' with values equal to 'Sale Price' - 'Profit'"
   ]
  },
  {
   "cell_type": "code",
   "execution_count": null,
   "metadata": {},
   "outputs": [
    {
     "name": "stdout",
     "output_type": "stream",
     "text": [
      "   Sale ID      Contact Sex  Age State Product ID Product Type  Sale Price  \\\n",
      "0        1  Paul Thomas   M   43    OH  M01-F0024      Desktop      479.99   \n",
      "1        2  Margo Simms   F   37    WV  GT13-0024      Desktop     1249.99   \n",
      "2        3    Sam Stine   M   26    PA      I3670      Desktop      649.99   \n",
      "3        4   Moe Eggert   M   35    PA      I3593       Laptop      399.99   \n",
      "4        5  Jessica Elk   F   55    PA     15M-ED       Laptop      699.99   \n",
      "\n",
      "   Profit     Lead     Month  Year  \n",
      "0  143.39  Website   January  2018  \n",
      "1  230.89  Flyer 4   January  2018  \n",
      "2  118.64  Website  February  2018  \n",
      "3   72.09  Website     March  2018  \n",
      "4   98.09  Flyer 4     March  2018  \n"
     ]
    }
   ],
   "source": [
    "df_cs = pd.read_csv('ComputerSales.csv')\n",
    "print(df_cs.head()) # first 5 rows"
   ]
  },
  {
   "cell_type": "code",
   "execution_count": null,
   "metadata": {},
   "outputs": [
    {
     "name": "stdout",
     "output_type": "stream",
     "text": [
      "   Sale ID          Contact Sex  Age State Product ID Product Type  \\\n",
      "0        1      Paul Thomas   M   43    OH  M01-F0024      Desktop   \n",
      "1        2      Margo Simms   F   37    WV  GT13-0024      Desktop   \n",
      "2        3        Sam Stine   M   26    PA      I3670      Desktop   \n",
      "3        4       Moe Eggert   M   35    PA      I3593       Laptop   \n",
      "4        5      Jessica Elk   F   55    PA     15M-ED       Laptop   \n",
      "5        6  Sally Struthers   F   45    PA  GT13-0024      Desktop   \n",
      "6        7   Michelle Samms   F   46    OH    GA401IV       Laptop   \n",
      "7        8     Mick Roberts   M   23    OH    MY2J2LL       Tablet   \n",
      "8        9      Ed Klondike   M   52    OH     81TC00       Laptop   \n",
      "9       10       Phil Jones   M   56    WV  M01-F0024      Desktop   \n",
      "\n",
      "   Sale Price  Profit     Lead     Month  Year  \n",
      "0      479.99  143.39  Website   January  2018  \n",
      "1     1249.99  230.89  Flyer 4   January  2018  \n",
      "2      649.99  118.64  Website  February  2018  \n",
      "3      399.99   72.09  Website     March  2018  \n",
      "4      699.99   98.09  Flyer 4     March  2018  \n",
      "5     1249.99  230.89  Flyer 2     April  2018  \n",
      "6     1349.99  180.34    Email       May  2018  \n",
      "7      999.99  146.69  Website      July  2018  \n",
      "8      649.99  122.34    Email      July  2018  \n",
      "9      479.99  143.39  Flyer 2    August  2018  \n"
     ]
    }
   ],
   "source": [
    "print(df_cs.head(10)) # first 10 rows"
   ]
  },
  {
   "cell_type": "code",
   "execution_count": null,
   "metadata": {},
   "outputs": [
    {
     "name": "stdout",
     "output_type": "stream",
     "text": [
      "Number of rows: 102\n"
     ]
    }
   ],
   "source": [
    "print(f\"Number of rows: {df_cs.shape[0]}\") # number of rows\n"
   ]
  },
  {
   "cell_type": "code",
   "execution_count": null,
   "metadata": {},
   "outputs": [
    {
     "name": "stdout",
     "output_type": "stream",
     "text": [
      "Max value: 1043.39\n"
     ]
    }
   ],
   "source": [
    "print(f\"Max value: {max(df_cs['Profit'])}\") # max value from the 'Profit' col\n"
   ]
  },
  {
   "cell_type": "code",
   "execution_count": null,
   "metadata": {},
   "outputs": [
    {
     "name": "stdout",
     "output_type": "stream",
     "text": [
      "Number of rows: 102\n"
     ]
    }
   ],
   "source": [
    "print(f\"Number of rows: {df_cs.shape[0]}\") # number of rows\n"
   ]
  },
  {
   "cell_type": "code",
   "execution_count": null,
   "metadata": {},
   "outputs": [
    {
     "name": "stdout",
     "output_type": "stream",
     "text": [
      "Unique values: 14\n"
     ]
    }
   ],
   "source": [
    "print(f\"Unique values: {df_cs['Age'].nunique()}\") # number of unique values from 'Age' col\n"
   ]
  },
  {
   "cell_type": "code",
   "execution_count": null,
   "metadata": {},
   "outputs": [
    {
     "name": "stdout",
     "output_type": "stream",
     "text": [
      "     Sale ID         Contact Sex  Age State     Product ID Product Type  \\\n",
      "7          8    Mick Roberts   M   23    OH        MY2J2LL       Tablet   \n",
      "14        15      Andy Sands   M   56    OH        MY2J2LL       Tablet   \n",
      "17        18  Michelle Samms   F   46    NY        MY2J2LL       Tablet   \n",
      "34        35  Michelle Samms   F   46    NY        MY2J2LL       Tablet   \n",
      "46        47    Mick Roberts   M   23    OH        MY2J2LL       Tablet   \n",
      "53        54      Andy Sands   M   56    OH  AN515-55-53AG       Tablet   \n",
      "56        57  Michelle Samms   F   46    NY        MY2J2LL       Tablet   \n",
      "72        73    Edna Sanders   F   46    OH  AN515-55-53AG       Tablet   \n",
      "75        76      Jason Case   M   57    PA        MY2J2LL       Tablet   \n",
      "82        83     Jessica Elk   F   55    PA  AN515-55-53AG       Tablet   \n",
      "85        86    Mick Roberts   M   23    OH        MY2J2LL       Tablet   \n",
      "94        95    Doug Johnson   M   51    PA        MY2J2LL       Tablet   \n",
      "101      102     Jessica Elk   F   55    PA  AN515-55-53AG       Tablet   \n",
      "\n",
      "     Sale Price  Profit     Lead     Month  Year  \n",
      "7        999.99  146.69  Website      July  2018  \n",
      "14       999.99  146.69  Flyer 1  December  2018  \n",
      "17       999.99  146.69  Website     March  2019  \n",
      "34       999.99  146.69  Website     April  2020  \n",
      "46       979.99  126.69  Website  December  2018  \n",
      "53       689.99  156.69  Flyer 1  December  2018  \n",
      "56       999.99  146.69  Website    August  2019  \n",
      "72       689.99  156.69  Flyer 1  December  2020  \n",
      "75       999.99  146.69  Website    August  2020  \n",
      "82       669.99  136.69  Flyer 1  December  2018  \n",
      "85       989.99  136.69  Website    August  2018  \n",
      "94       959.99  106.69  Website  December  2019  \n",
      "101      669.99  136.69  Flyer 1  December  2019  \n"
     ]
    }
   ],
   "source": [
    "print(df_cs[df_cs['Product Type'] == 'Tablet']) # Product Type is 'Tablet'\n"
   ]
  },
  {
   "cell_type": "code",
   "execution_count": null,
   "metadata": {},
   "outputs": [
    {
     "name": "stdout",
     "output_type": "stream",
     "text": [
      "     Sale Price  Profit     Diff\n",
      "0        479.99  143.39   336.60\n",
      "1       1249.99  230.89  1019.10\n",
      "2        649.99  118.64   531.35\n",
      "3        399.99   72.09   327.90\n",
      "4        699.99   98.09   601.90\n",
      "..          ...     ...      ...\n",
      "97       609.99  140.34   469.65\n",
      "98       889.99  110.89   779.10\n",
      "99       989.99  111.34   878.65\n",
      "100      589.99  138.64   451.35\n",
      "101      669.99  136.69   533.30\n",
      "\n",
      "[102 rows x 3 columns]\n"
     ]
    }
   ],
   "source": [
    "df_cs['Diff'] = df_cs['Sale Price'] - df_cs['Profit']\n",
    "print(df_cs[['Sale Price', 'Profit', 'Diff']])"
   ]
  },
  {
   "cell_type": "markdown",
   "metadata": {},
   "source": [
    "**<p style=\"color:red\">EXERCISE 3</p>**\n",
    "\n",
    "**Exercise 3: Create a data frame called 'df_deaths' from the CSV file 'Deaths.xlsx'.**\n",
    "* Print the first 2 rows.\n",
    "* Print the 10th row\n",
    "* Print the min value of X and Y\n",
    "* Print the max value of X and Y\n",
    "* Print the average value of X and Y\n",
    "* Sort data by X value\n",
    "* Print the statistics about the data\n",
    "* Plot the data"
   ]
  },
  {
   "cell_type": "code",
   "execution_count": null,
   "metadata": {},
   "outputs": [
    {
     "name": "stdout",
     "output_type": "stream",
     "text": [
      "           X         Y\n",
      "0  13.588010  11.09560\n",
      "1   9.878124  12.55918\n"
     ]
    }
   ],
   "source": [
    "df_deaths = pd.read_csv('Deaths.csv')\n",
    "print(df_deaths.head(2)) # first 2 rows"
   ]
  },
  {
   "cell_type": "code",
   "execution_count": null,
   "metadata": {},
   "outputs": [
    {
     "name": "stdout",
     "output_type": "stream",
     "text": [
      "X    11.126390\n",
      "Y     9.643859\n",
      "Name: 9, dtype: float64\n"
     ]
    }
   ],
   "source": [
    "print(df_deaths.iloc[9]) # 10th row"
   ]
  },
  {
   "cell_type": "code",
   "execution_count": null,
   "metadata": {},
   "outputs": [
    {
     "name": "stdout",
     "output_type": "stream",
     "text": [
      "Min X: 8.280715 \n",
      "Min Y: 6.090047\n"
     ]
    }
   ],
   "source": [
    "print(f\"Min X: {df_deaths.X.min()} \\nMin Y: {df_deaths.Y.min()}\") # min"
   ]
  },
  {
   "cell_type": "code",
   "execution_count": null,
   "metadata": {},
   "outputs": [
    {
     "name": "stdout",
     "output_type": "stream",
     "text": [
      "Max X: 17.93893 \n",
      "Max Y: 16.97276\n"
     ]
    }
   ],
   "source": [
    "print(f\"Max X: {df_deaths.X.max()} \\nMax Y: {df_deaths.Y.max()}\") # max"
   ]
  },
  {
   "cell_type": "code",
   "execution_count": null,
   "metadata": {},
   "outputs": [
    {
     "name": "stdout",
     "output_type": "stream",
     "text": [
      "Mean X: 13.03311612283737 \n",
      "Mean Y: 11.697207534602077\n"
     ]
    }
   ],
   "source": [
    "print(f\"Mean X: {df_deaths.X.mean()} \\nMean Y: {df_deaths.Y.mean()}\") # avg"
   ]
  },
  {
   "cell_type": "code",
   "execution_count": null,
   "metadata": {},
   "outputs": [
    {
     "data": {
      "text/html": [
       "<div>\n",
       "<style scoped>\n",
       "    .dataframe tbody tr th:only-of-type {\n",
       "        vertical-align: middle;\n",
       "    }\n",
       "\n",
       "    .dataframe tbody tr th {\n",
       "        vertical-align: top;\n",
       "    }\n",
       "\n",
       "    .dataframe thead th {\n",
       "        text-align: right;\n",
       "    }\n",
       "</style>\n",
       "<table border=\"1\" class=\"dataframe\">\n",
       "  <thead>\n",
       "    <tr style=\"text-align: right;\">\n",
       "      <th></th>\n",
       "      <th>X</th>\n",
       "      <th>Y</th>\n",
       "    </tr>\n",
       "  </thead>\n",
       "  <tbody>\n",
       "    <tr>\n",
       "      <th>434</th>\n",
       "      <td>8.280715</td>\n",
       "      <td>11.568290</td>\n",
       "    </tr>\n",
       "    <tr>\n",
       "      <th>108</th>\n",
       "      <td>8.311067</td>\n",
       "      <td>7.202524</td>\n",
       "    </tr>\n",
       "    <tr>\n",
       "      <th>312</th>\n",
       "      <td>8.325407</td>\n",
       "      <td>7.166975</td>\n",
       "    </tr>\n",
       "    <tr>\n",
       "      <th>201</th>\n",
       "      <td>8.342558</td>\n",
       "      <td>7.136541</td>\n",
       "    </tr>\n",
       "    <tr>\n",
       "      <th>117</th>\n",
       "      <td>8.436085</td>\n",
       "      <td>7.393596</td>\n",
       "    </tr>\n",
       "    <tr>\n",
       "      <th>...</th>\n",
       "      <td>...</td>\n",
       "      <td>...</td>\n",
       "    </tr>\n",
       "    <tr>\n",
       "      <th>300</th>\n",
       "      <td>16.839400</td>\n",
       "      <td>11.601700</td>\n",
       "    </tr>\n",
       "    <tr>\n",
       "      <th>575</th>\n",
       "      <td>17.271660</td>\n",
       "      <td>11.633800</td>\n",
       "    </tr>\n",
       "    <tr>\n",
       "      <th>78</th>\n",
       "      <td>17.515010</td>\n",
       "      <td>11.228880</td>\n",
       "    </tr>\n",
       "    <tr>\n",
       "      <th>221</th>\n",
       "      <td>17.595100</td>\n",
       "      <td>7.335869</td>\n",
       "    </tr>\n",
       "    <tr>\n",
       "      <th>63</th>\n",
       "      <td>17.938930</td>\n",
       "      <td>7.189272</td>\n",
       "    </tr>\n",
       "  </tbody>\n",
       "</table>\n",
       "<p>578 rows × 2 columns</p>\n",
       "</div>"
      ],
      "text/plain": [
       "             X          Y\n",
       "434   8.280715  11.568290\n",
       "108   8.311067   7.202524\n",
       "312   8.325407   7.166975\n",
       "201   8.342558   7.136541\n",
       "117   8.436085   7.393596\n",
       "..         ...        ...\n",
       "300  16.839400  11.601700\n",
       "575  17.271660  11.633800\n",
       "78   17.515010  11.228880\n",
       "221  17.595100   7.335869\n",
       "63   17.938930   7.189272\n",
       "\n",
       "[578 rows x 2 columns]"
      ]
     },
     "metadata": {},
     "output_type": "display_data"
    }
   ],
   "source": [
    "df_deaths = df_deaths.sort_values(by=['X']) # sort by X\n",
    "df_deaths"
   ]
  },
  {
   "cell_type": "code",
   "execution_count": null,
   "metadata": {},
   "outputs": [
    {
     "name": "stdout",
     "output_type": "stream",
     "text": [
      "                X           Y\n",
      "count  578.000000  578.000000\n",
      "mean    13.033116   11.697208\n",
      "std      1.953228    1.649661\n",
      "min      8.280715    6.090047\n",
      "25%     11.642648   10.680608\n",
      "50%     13.206795   11.520610\n",
      "75%     14.515878   12.758265\n",
      "max     17.938930   16.972760\n"
     ]
    }
   ],
   "source": [
    "print(df_deaths.describe()) # statistics"
   ]
  },
  {
   "cell_type": "code",
   "execution_count": null,
   "metadata": {},
   "outputs": [
    {
     "data": {
      "text/plain": [
       "<Axes: >"
      ]
     },
     "metadata": {},
     "output_type": "display_data"
    },
    {
     "data": {
      "image/png": "[encoded data removed]",
      "text/plain": [
       "<Figure size 640x480 with 1 Axes>"
      ]
     },
     "metadata": {},
     "output_type": "display_data"
    }
   ],
   "source": [
    "df_deaths.boxplot(meanline=True, showmeans=True)"
   ]
  }
 ],
 "metadata": {
  "kernelspec": {
   "display_name": "Python 3",
   "language": "python",
   "name": "python3"
  },
  "language_info": {
   "codemirror_mode": {
    "name": "ipython",
    "version": 3
   },
   "file_extension": ".py",
   "mimetype": "text/x-python",
   "name": "python",
   "nbconvert_exporter": "python",
   "pygments_lexer": "ipython3",
   "version": "3.12.7"
  }
 },
 "nbformat": 4,
 "nbformat_minor": 2
}
